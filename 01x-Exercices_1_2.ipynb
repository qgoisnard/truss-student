{
 "cells": [
  {
   "cell_type": "markdown",
   "metadata": {},
   "source": [
    "# Exercice 1"
   ]
  },
  {
   "cell_type": "markdown",
   "metadata": {},
   "source": [
    "Build up your own python program to solve a beam with an arbritary number of elements and arbritary loading. Do it either in a text file (`.py`) or in a new jupyther notebook. You can use object-oriented programming, as suggested below."
   ]
  },
  {
   "cell_type": "markdown",
   "metadata": {
    "collapsed": false
   },
   "source": [
    "You find below an example to start a `Frame` class. The example include geometry and visualization features. You should add the *methods* (*i.e.* the functions of the class) to assemble `K`, `F`, impose bcs and solve the system.\n",
    "\n",
    "Once done, test the solution for a cantilever beam under its own weigth. Compare againt the analytical solution"
   ]
  },
  {
   "cell_type": "code",
   "execution_count": 14,
   "metadata": {
    "collapsed": false
   },
   "outputs": [],
   "source": [
    "import matplotlib.pyplot as plt \n",
    "import numpy as np\n",
    "\n",
    "class Frame():\n",
    "    \n",
    "    def __init__(self, nodes, elements):\n",
    "        self.nodes = nodes\n",
    "        self.elements = elements\n",
    "        self.ndof = 3*self.nodes.size\n",
    "        self.U = np.zeros(self.ndof)\n",
    "        print(\"%i ndof\"%self.ndof)\n",
    "    \n",
    "    def L(self,e):\n",
    "        dx = self.nodes[self.elements[3]][1]-self.nodes[self.elements[3]][0]\n",
    "        return np.sqrt(dx[0]**2+dx[1]**2)\n",
    "        \n",
    "    def dof_map_e(self, e):\n",
    "        return np.concatenate((frame.elements[e,0]*3+np.arange(3),frame.elements[e,1]*3+np.arange(3)))\n",
    "    \n",
    "    def dof_map(self, e, i_local):\n",
    "        return self.dof_map_e(e)[i_local]\n",
    "    \n",
    "    def U_e(self,e):\n",
    "        return [self.U[self.dof_map(e,i)] for i in range(6)]\n",
    "\n",
    "    def S(self, s, e):\n",
    "        L = self.L(e)\n",
    "        S = np.array([[1 - s/L, 0, 0, s/L, 0, 0], \n",
    "                [0, 1 - 3*s**2/L**2 + 2*s**3/L**3, s - 2*s**2/L + s**3/L**2, 0, 3*s**2/L**2 - 2*s**3/L**3, -s**2/L + s**3/L**2]])\n",
    "        return S\n",
    "        \n",
    "    def uv(self,e,s): \n",
    "        return np.dot(frame.S(s,e),frame.U_e(e))\n",
    "    \n",
    "    def xy(self,e,s):\n",
    "        element = self.elements[e]\n",
    "        x0coords = self.nodes[element][:,0]\n",
    "        y0coords = self.nodes[element][:,1]\n",
    "        x0 = x0coords[0]*(1-s/self.L(e))+x0coords[1]*s/self.L(e)\n",
    "        y0 = y0coords[0]*(1-s/self.L(e))+y0coords[1]*s/self.L(e)\n",
    "        [u,v] = self.uv(e,s)\n",
    "        return [x0+u, y0+v]\n",
    "    \n",
    "    def plot(self):\n",
    "        #import matplotlib.plt as plt \n",
    "        fig, ax = plt.subplots()\n",
    "        shift = self.nodes.max()*.005\n",
    "        for (e_num,e) in enumerate(self.elements):\n",
    "            xcoords = self.nodes[e][:,0]\n",
    "            ycoords = self.nodes[e][:,1]\n",
    "            ax.plot(xcoords, ycoords,'o-',lw=2, color='black', ms=10)\n",
    "        ax.set_xlim(self.nodes[:,0].min()-10*shift, self.nodes[:,0].max()+10*shift)\n",
    "        ax.set_ylim(self.nodes[:,1].min()-10*shift, self.nodes[:,1].max()+10*shift)\n",
    "        return ax\n",
    "    \n",
    "    def plot_with_label(self):\n",
    "        fig, ax = plt.subplots()\n",
    "        shift = self.nodes.max()*.005\n",
    "        for (e_num,e) in enumerate(self.elements):\n",
    "            xcoords = self.nodes[e][:,0]\n",
    "            ycoords = self.nodes[e][:,1]\n",
    "            ax.plot(xcoords, ycoords,'o-',lw=2, color='black', ms=10)\n",
    "            ax.text((xcoords[0]+xcoords[1])/2.+shift, (ycoords[0]+ycoords[1])/2.+shift, str(e_num), bbox=dict(facecolor='yellow'))\n",
    "            for i in range(e.size):\n",
    "                ax.text(xcoords[i]+shift, ycoords[i]+shift, e[i], verticalalignment = 'bottom', horizontalalignment = 'left')\n",
    "        ax.set_xlim(self.nodes[:,0].min()-10*shift, self.nodes[:,0].max()+10*shift)\n",
    "        ax.set_ylim(self.nodes[:,1].min()-10*shift, self.nodes[:,1].max()+10*shift)\n",
    "        return ax\n",
    "\n",
    "    def plot_displaced(self, U): \n",
    "        for e in range(4):\n",
    "            sv = np.linspace(0,frame.L(e),10)\n",
    "            plt.plot([frame.xy(e,s)[0] for s in sv],[frame.xy(e,s)[1] for s in sv],'b.-')\n",
    "            plt.plot(self.nodes.transpose(),'o')\n",
    "            "
   ]
  },
  {
   "cell_type": "markdown",
   "metadata": {},
   "source": [
    "An example"
   ]
  },
  {
   "cell_type": "code",
   "execution_count": 15,
   "metadata": {
    "collapsed": false
   },
   "outputs": [
    {
     "name": "stdout",
     "output_type": "stream",
     "text": [
      "30 ndof\n"
     ]
    }
   ],
   "source": [
    "nodes = np.array([[ 0.  ,  0.  ],\n",
    "       [ 0.25,  0.  ],\n",
    "       [ 0.5 ,  0.  ],\n",
    "       [ 0.75,  0.  ],\n",
    "       [ 1.  ,  0.  ]])\n",
    "elements = np.array([[0, 1],\n",
    "       [1, 2],\n",
    "       [2, 3],\n",
    "       [3, 4]])\n",
    "Usol = np.array([  0.00000000e+00,   0.00000000e+00,   0.00000000e+00,\n",
    "         0.00000000e+00,  -3.75000000e-01,  -5.00000000e-01,\n",
    "         0.00000000e+00,  -6.66666667e-01,   4.93432455e-17,\n",
    "         0.00000000e+00,  -3.75000000e-01,   5.00000000e-01,\n",
    "         0.00000000e+00,   0.00000000e+00,   0.00000000e+00])\n",
    "\n",
    "frame = Frame(nodes,elements)   \n",
    "frame.plot_with_label()\n",
    "frame.U = .05*Usol\n",
    "frame.plot_displaced(Usol)"
   ]
  },
  {
   "cell_type": "markdown",
   "metadata": {},
   "source": [
    "# Exercice 2\n",
    "\n",
    "Extend the `Frame` class by including the case of beam segments with several orientations. Look also at the reference in the Syllabus. Test on examples"
   ]
  }
 ],
 "metadata": {
  "kernelspec": {
   "display_name": "Python 2",
   "language": "python",
   "name": "python2"
  },
  "language_info": {
   "codemirror_mode": {
    "name": "ipython",
    "version": 2
   },
   "file_extension": ".py",
   "mimetype": "text/x-python",
   "name": "python",
   "nbconvert_exporter": "python",
   "pygments_lexer": "ipython2",
   "version": "2.7.10"
  }
 },
 "nbformat": 4,
 "nbformat_minor": 0
}
