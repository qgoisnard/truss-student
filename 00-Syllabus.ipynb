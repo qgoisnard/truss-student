{
 "cells": [
  {
   "cell_type": "markdown",
   "metadata": {},
   "source": [
    "# Projet Mécanique des solides\n",
    "___\n",
    "\n",
    "* Corrado Maurini, *corrado.maurini@upmc.fr*, Institut d'Alembert, 55.65.414\n",
    "* Arnaud Lazarus, *arnaud.lazarus@upmc.fr*, Institut d'Alembert"
   ]
  },
  {
   "cell_type": "markdown",
   "metadata": {},
   "source": [
    "## Plan des séances\n",
    "---\n",
    "\n",
    "* 5 Séances presentielles (presence obbligatoire):\n",
    "    1.  29/02 Introduction à la modélisation numérique des treillis sur `python` (C.Maurini)\n",
    "    2. 07/03 Introduction aux méthodes numériques pour les problèmes aux valeurs propres (A.Lazarus)\n",
    "    3. 14/03 Flambement des treillis (C.Maurini et A.Lazarus)\n",
    "    4. 21/03 Projet (C.Maurini et A.Lazarus)\n",
    "    5. 04/04 Projet (C.Maurini et A.Lazarus)\n",
    "\n",
    "\n",
    "* 2 séances en libre service (avec presence de un des encandrants)\n",
    "\n",
    "* 2/5 soutenances, probablement à modifier ..."
   ]
  },
  {
   "cell_type": "markdown",
   "metadata": {},
   "source": [
    "## Objectifs\n",
    "-----\n",
    "\n",
    "* Modélisation de treillis\n",
    "* Analyse de flambement \n",
    "* Méthodes numériques pour la résolution des problèmes aux valeurs propres\n",
    "* Apprendre des outils modernes pour le calcul scientifique: `python` & Co\n",
    "* Comparer les résultats numériques avec des experiences "
   ]
  },
  {
   "cell_type": "markdown",
   "metadata": {},
   "source": [
    "# Plan seance 1\n",
    "\n",
    "* Very short introduction to python\n",
    "* Revision of the beam model\n",
    "* Discrete linear beam model (I do)\n",
    "* Discrete linear truss model (you do)\n",
    "\n"
   ]
  },
  {
   "cell_type": "markdown",
   "metadata": {},
   "source": [
    "# Some references\n",
    "---\n",
    "\n",
    "## Python \n",
    "* https://github.com/barbagroup/CFDPython/blob/master/lessons/00_Quick_Python_Intro.ipynb \n",
    "* https://github.com/jrjohansson/scientific-python-lectures \n",
    "* https://jupyter.org\n",
    "* https://openclassrooms.com/courses/la-programmation-scientifique-avec-python\n",
    "\n",
    "\n",
    "## Markdown\n",
    "* https://github.com/adam-p/markdown-here/wiki/Markdown-Cheatsheet#images\n",
    "* https://www.youtube.com/watch?v=-F4WS8o-G2A\n",
    "\n",
    "## Latex\n",
    "* http://users.dickinson.edu/~richesod/latex/latexcheatsheet.pdf\n",
    "* https://www.authorea.com/users/3/articles/6868\n",
    "\n",
    "\n",
    "## Frame models\n",
    "* http://www.facweb.iitkgp.ernet.in/~baidurya/CE21004/online_lecture_notes/m4l30.pdf\n",
    "* http://people.duke.edu/~hpgavin/cee421/frame-element.pdf\n",
    "* https://meefi.pedagogie.ec-nantes.fr/meef/pdf/poly-MEEFI.pdf"
   ]
  },
  {
   "cell_type": "code",
   "execution_count": null,
   "metadata": {
    "collapsed": true
   },
   "outputs": [],
   "source": []
  },
  {
   "cell_type": "code",
   "execution_count": null,
   "metadata": {
    "collapsed": true
   },
   "outputs": [],
   "source": []
  }
 ],
 "metadata": {
  "kernelspec": {
   "display_name": "Python 2",
   "language": "python",
   "name": "python2"
  },
  "language_info": {
   "codemirror_mode": {
    "name": "ipython",
    "version": 2
   },
   "file_extension": ".py",
   "mimetype": "text/x-python",
   "name": "python",
   "nbconvert_exporter": "python",
   "pygments_lexer": "ipython2",
   "version": "2.7.10"
  }
 },
 "nbformat": 4,
 "nbformat_minor": 0
}
